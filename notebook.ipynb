{
 "cells": [
  {
   "cell_type": "code",
   "execution_count": 2,
   "id": "a323daae",
   "metadata": {},
   "outputs": [],
   "source": [
    "import os\n",
    "from firecrawl import FirecrawlApp\n",
    "from dotenv import load_dotenv\n",
    "import pandas as pd\n",
    "from typing import Dict,Any\n",
    "from pydantic import BaseModel, Field"
   ]
  },
  {
   "cell_type": "code",
   "execution_count": 25,
   "id": "8754f2fd",
   "metadata": {},
   "outputs": [],
   "source": [
    "class WebsiteScraper:\n",
    "    def __init__(self):\n",
    "        load_dotenv()\n",
    "        self.firecrawl_api_key=os.getenv(\"FIRECRAWL_API_KEY\")\n",
    "        self.app = FirecrawlApp(api_key=self.firecrawl_api_key)\n",
    "        self.schema_fields = [{\"name\": \"\", \"type\": \"str\"}]\n",
    "\n",
    "    def create_dynamic_model(self, fields):\n",
    "        field_annotations = {}\n",
    "        for field in fields:\n",
    "            if field[\"name\"]:\n",
    "                type_mapping = {\n",
    "                    \"str\" : str,\n",
    "                    \"bool\" : bool,\n",
    "                    \"int\" : int,\n",
    "                    \"float\" : float\n",
    "                }\n",
    "                field_annotations[field[\"name\"]] = type_mapping[field[\"type\"]]\n",
    "        return type(\n",
    "            \"ExtractSchema\",\n",
    "            (BaseModel,),\n",
    "            {\n",
    "               \"__annotations__\": field_annotations \n",
    "            }\n",
    "        )\n",
    "\n",
    "\n",
    "    def create_schema_from_fields(self,fields):\n",
    "        if not any (field[\"name\"] for field in fields):\n",
    "            return None\n",
    "\n",
    "        model_class = self.create_dynamic_model(fields)\n",
    "        return model_class.model_json_schema()\n",
    "\n",
    "    def convert_to_table(self, data:Dict[str, Any]) -> str:\n",
    "        if not data or \"data\" not in data:\n",
    "            return \"\"\n",
    "\n",
    "        df=pd.DataFrame([data['data']])\n",
    "        return df.to_string(index=False)\n",
    "\n",
    "    def scrape_web(self, website_url : str, prompt: str, schema_fields=None):\n",
    "        if not website_url:\n",
    "            raise ValueError(\"Please Provide a Website URL\")\n",
    "        \n",
    "        try:\n",
    "            schema=self.create_schema_from_fields(schema_fields) if schema_fields else None\n",
    "           \n",
    "            if schema:\n",
    "                data = self.app.extract([website_url], schema=schema)\n",
    "\n",
    "            else:\n",
    "                  data = self.app.extract([website_url])\n",
    "                \n",
    "            return data\n",
    "\n",
    "        except Exception as e:\n",
    "            raise Exception(f\"An error occured: {str(e)}\")"
   ]
  },
  {
   "cell_type": "code",
   "execution_count": 26,
   "id": "2cb63d0f",
   "metadata": {},
   "outputs": [
    {
     "name": "stdout",
     "output_type": "stream",
     "text": [
      "Results: \n",
      "\n",
      "id=None status='completed' expiresAt=datetime.datetime(2025, 7, 10, 17, 15, 27, tzinfo=TzInfo(UTC)) success=True data={'Article_link': 'https://www.anthropic.com/engineering/building-effective-agents', 'Publish_data': 'Dec 19, 2024', 'Article_title': 'Building effective agents'} error=None warning=None sources=None\n"
     ]
    }
   ],
   "source": [
    "scraper = WebsiteScraper()\n",
    "website_url = \"https://www.anthropic.com/engineering/building-effective-agents\"\n",
    "prompt = \"extract publish data, title and link of all article related to LLMs\"\n",
    "\n",
    "schema_fields = [\n",
    "    {\"name\": \"Article_title\", \"type\": \"str\"},\n",
    "    {\"name\": \"Publish_data\", \"type\": \"str\"},\n",
    "    {\"name\": \"Article_link\", \"type\": \"str\"}\n",
    "]\n",
    "\n",
    "result = scraper.scrape_web(website_url, prompt, schema_fields)\n",
    "print(\"Results: \\n\")\n",
    "print(result)"
   ]
  },
  {
   "cell_type": "code",
   "execution_count": 28,
   "id": "64def604",
   "metadata": {},
   "outputs": [],
   "source": [
    "class ExtractSchema(BaseModel):\n",
    "    mission: str\n",
    "    supports_sso: bool\n",
    "    is_open_source: bool\n",
    "    is_in_yc: bool"
   ]
  },
  {
   "cell_type": "code",
   "execution_count": 29,
   "id": "067d98a6",
   "metadata": {},
   "outputs": [
    {
     "data": {
      "text/plain": [
       "{'properties': {'mission': {'title': 'Mission', 'type': 'string'},\n",
       "  'supports_sso': {'title': 'Supports Sso', 'type': 'boolean'},\n",
       "  'is_open_source': {'title': 'Is Open Source', 'type': 'boolean'},\n",
       "  'is_in_yc': {'title': 'Is In Yc', 'type': 'boolean'}},\n",
       " 'required': ['mission', 'supports_sso', 'is_open_source', 'is_in_yc'],\n",
       " 'title': 'ExtractSchema',\n",
       " 'type': 'object'}"
      ]
     },
     "execution_count": 29,
     "metadata": {},
     "output_type": "execute_result"
    }
   ],
   "source": [
    "ExtractSchema.model_json_schema()"
   ]
  },
  {
   "cell_type": "code",
   "execution_count": 30,
   "id": "af5eef83",
   "metadata": {},
   "outputs": [
    {
     "data": {
      "text/plain": [
       "{'properties': {'Article_title': {'title': 'Article Title', 'type': 'string'},\n",
       "  'Publish_data': {'title': 'Publish Data', 'type': 'string'},\n",
       "  'Article_link': {'title': 'Article Link', 'type': 'string'}},\n",
       " 'required': ['Article_title', 'Publish_data', 'Article_link'],\n",
       " 'title': 'ExtractSchema',\n",
       " 'type': 'object'}"
      ]
     },
     "execution_count": 30,
     "metadata": {},
     "output_type": "execute_result"
    }
   ],
   "source": [
    "scraper.create_schema_from_fields(schema_fields)"
   ]
  },
  {
   "cell_type": "code",
   "execution_count": 32,
   "id": "be28a085",
   "metadata": {},
   "outputs": [
    {
     "name": "stdout",
     "output_type": "stream",
     "text": [
      "id=None status='completed' expiresAt=datetime.datetime(2025, 7, 10, 17, 23, 45, tzinfo=TzInfo(UTC)) success=True data={'article_link': 'https://www.anthropic.com/engineering/building-effective-agents', 'publish_data': 'Dec 19, 2024', 'article_title': 'Building effective agents'} error=None warning=None sources=None\n"
     ]
    }
   ],
   "source": [
    "app = FirecrawlApp(api_key=os.getenv(\"FIRECRAWL_API_KEY\"))\n",
    "class ExtractSchema(BaseModel):\n",
    "    article_title: str\n",
    "    publish_data: str\n",
    "    article_link: str\n",
    "\n",
    "data = app.extract(\n",
    "    urls=[\"https://www.anthropic.com/engineering/building-effective-agents\"],\n",
    "    schema=ExtractSchema.model_json_schema()\n",
    ")\n",
    "\n",
    "print(data)"
   ]
  }
 ],
 "metadata": {
  "kernelspec": {
   "display_name": "venv",
   "language": "python",
   "name": "python3"
  },
  "language_info": {
   "codemirror_mode": {
    "name": "ipython",
    "version": 3
   },
   "file_extension": ".py",
   "mimetype": "text/x-python",
   "name": "python",
   "nbconvert_exporter": "python",
   "pygments_lexer": "ipython3",
   "version": "3.10.1"
  }
 },
 "nbformat": 4,
 "nbformat_minor": 5
}
